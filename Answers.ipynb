{
 "cells": [
  {
   "cell_type": "code",
   "execution_count": 1,
   "metadata": {},
   "outputs": [],
   "source": [
    "%matplotlib notebook\n",
    "%load_ext autoreload\n",
    "%autoreload 2"
   ]
  },
  {
   "cell_type": "code",
   "execution_count": 2,
   "metadata": {},
   "outputs": [],
   "source": [
    "import functools\n",
    "import numpy as np\n",
    "import pandas as pd\n",
    "import matplotlib.pyplot as plt\n",
    "import seaborn as sns\n",
    "import scipy\n",
    "import ot\n",
    "import tqdm\n",
    "import sklearn.decomposition\n",
    "import sklearn.cluster\n",
    "import itertools\n",
    "import time\n",
    "import umap"
   ]
  },
  {
   "cell_type": "code",
   "execution_count": 3,
   "metadata": {},
   "outputs": [],
   "source": [
    "import torch\n",
    "import torch.nn as nn\n",
    "from torchvision import datasets, transforms"
   ]
  },
  {
   "cell_type": "code",
   "execution_count": 4,
   "metadata": {},
   "outputs": [],
   "source": [
    "from src.utils import *\n",
    "from src.encoders_decoders import *\n",
    "from src.dwe import *\n",
    "from src.data_mining import *"
   ]
  },
  {
   "cell_type": "code",
   "execution_count": 5,
   "metadata": {},
   "outputs": [],
   "source": [
    "import warnings\n",
    "warnings.filterwarnings(\"ignore\")"
   ]
  },
  {
   "cell_type": "code",
   "execution_count": 6,
   "metadata": {},
   "outputs": [],
   "source": [
    "seed = 42\n",
    "torch.manual_seed(seed)\n",
    "torch.backends.cudnn.deterministic = True\n",
    "torch.backends.cudnn.benchmark = False\n",
    "np.random.seed(seed)"
   ]
  },
  {
   "cell_type": "markdown",
   "metadata": {},
   "source": [
    "# W^p"
   ]
  },
  {
   "cell_type": "code",
   "execution_count": 7,
   "metadata": {},
   "outputs": [],
   "source": [
    "ds = datasets.MNIST(root=\"data\", train=True, download=True, transform=transforms.ToTensor())\n",
    "test_ds = datasets.MNIST(root=\"data\", train=False, download=True, transform=transforms.ToTensor())"
   ]
  },
  {
   "cell_type": "code",
   "execution_count": 8,
   "metadata": {},
   "outputs": [],
   "source": [
    "def create_train_test(ds, test_ds, n_train, n_test, p=2):\n",
    "    train_dataset = DWE_dataset(ds, n_train, p=p)\n",
    "    test_dataset = DWE_dataset(test_ds, n_test, p=p)\n",
    "    return train_dataset, test_dataset"
   ]
  },
  {
   "cell_type": "code",
   "execution_count": 9,
   "metadata": {},
   "outputs": [],
   "source": [
    "def create_model(cuda=True, regterm=1):\n",
    "    e = EncoderCNN()\n",
    "    d = DecoderCNN()\n",
    "    m = DWE(e, d, regterm, cuda=cuda, lr=1e-3, from_dir=None, name='mnist')\n",
    "    return m"
   ]
  },
  {
   "cell_type": "code",
   "execution_count": 10,
   "metadata": {},
   "outputs": [],
   "source": [
    "def train_model(m, ds, batch_size=64, nepochs=10):\n",
    "    kwargs = {'num_workers': 1, 'pin_memory': True} if m.cuda else {}\n",
    "    train_loader = torch.utils.data.DataLoader(ds, batch_size=batch_size, shuffle=True, **kwargs)\n",
    "    m.train(train_loader, has_y=True, nepochs=nepochs)"
   ]
  },
  {
   "cell_type": "code",
   "execution_count": 11,
   "metadata": {},
   "outputs": [],
   "source": [
    "def eval_test(m, ds, batch_size=128, has_y=True):\n",
    "    preds = []\n",
    "    ys = []\n",
    "    kwargs = {'num_workers': 1, 'pin_memory': True} if m.cuda else {}\n",
    "    test_loader = torch.utils.data.DataLoader(ds, batch_size=batch_size, **kwargs)\n",
    "    with torch.no_grad():\n",
    "        for x1, x2, y in tqdm.tqdm_notebook(test_loader, desc='Evaluating'):\n",
    "            if has_y:\n",
    "                x1 = x1[0]\n",
    "                x2 = x2[0]\n",
    "            if m.cuda:\n",
    "                x1 = x1.cuda()\n",
    "                x2 = x2.cuda()\n",
    "            phi1 = m.encoder(x1).detach().cpu().numpy()\n",
    "            phi2 = m.encoder(x2).detach().cpu().numpy()\n",
    "            pred = list(((phi1 - phi2)**2).sum(axis=1))\n",
    "            preds.extend(pred)\n",
    "            ys.extend(y)\n",
    "    preds = np.array(preds)\n",
    "    ys = np.array(ys)\n",
    "    return preds, ys"
   ]
  },
  {
   "cell_type": "code",
   "execution_count": 12,
   "metadata": {},
   "outputs": [],
   "source": [
    "def performance_ds(ds, test_ds, p, n_train=100000, n_test=10000, cuda=True):\n",
    "    print(f'p = {p}')\n",
    "    train_dataset, test_dataset = create_train_test(ds, test_ds, n_train, n_test, p=p)\n",
    "    m = create_model(cuda, regterm=1)\n",
    "    train_model(m, train_dataset, batch_size=64)\n",
    "    preds, ys = eval_test(m, test_dataset)\n",
    "    err = np.abs(preds - ys)\n",
    "    print(f'Error : {err.mean():.3f}+-{err.std():.3f}')\n",
    "    print(f'Relative MAE = {((err)/(ys + 1e-9)).mean():.3f}')\n",
    "    print(f'MSE = {((ys - preds)**2).mean():.3f}')\n",
    "    print(f'Relative MSE = {(((ys - preds)**2)/(ys + 1e-9)).mean():.3f}')\n",
    "    print(f'Correlation = {np.corrcoef(np.stack((preds, ys)))[0, 1]:.3f}')\n",
    "    print(f'Error quantiles : 1% : {np.quantile(err, 0.01):.2f}| 50% : {np.quantile(err, 0.5):.2f}| 99% : {np.quantile(err, 0.99):.2f}')\n",
    "    print(f'Mean distance : {ys.mean():.2f}')\n",
    "    print()\n",
    "    return preds, ys"
   ]
  },
  {
   "cell_type": "code",
   "execution_count": 13,
   "metadata": {},
   "outputs": [
    {
     "name": "stdout",
     "output_type": "stream",
     "text": [
      "[ 0.02        0.04308869  0.09283178  0.2         0.43088694  0.92831777\n",
      "  2.          4.30886938  9.28317767 20.        ]\n",
      "p = 0.020000000000000004\n"
     ]
    },
    {
     "data": {
      "application/vnd.jupyter.widget-view+json": {
       "model_id": "3d1354dd81e8462396c527bee5cf052e",
       "version_major": 2,
       "version_minor": 0
      },
      "text/plain": [
       "HBox(children=(FloatProgress(value=0.0, max=100000.0), HTML(value='')))"
      ]
     },
     "metadata": {},
     "output_type": "display_data"
    },
    {
     "name": "stdout",
     "output_type": "stream",
     "text": [
      "\n"
     ]
    },
    {
     "data": {
      "application/vnd.jupyter.widget-view+json": {
       "model_id": "ceb4e5aaa82445ccb54e8e43072d1985",
       "version_major": 2,
       "version_minor": 0
      },
      "text/plain": [
       "HBox(children=(FloatProgress(value=0.0, max=30000.0), HTML(value='')))"
      ]
     },
     "metadata": {},
     "output_type": "display_data"
    },
    {
     "name": "stdout",
     "output_type": "stream",
     "text": [
      "\n"
     ]
    },
    {
     "data": {
      "application/vnd.jupyter.widget-view+json": {
       "model_id": "a815023df7854ae186cc00d8ec1f692f",
       "version_major": 2,
       "version_minor": 0
      },
      "text/plain": [
       "HBox(children=(FloatProgress(value=0.0, max=10.0), HTML(value='')))"
      ]
     },
     "metadata": {},
     "output_type": "display_data"
    },
    {
     "name": "stdout",
     "output_type": "stream",
     "text": [
      "Mean train loss : 24.72 (Wasserstein : 20.91 - data : 3.81)\n",
      "Mean train accuracy : 2.88\n",
      "Mean train loss : 4.41 (Wasserstein : 2.55 - data : 1.86)\n",
      "Mean train accuracy : 1.24\n",
      "Mean train loss : 3.23 (Wasserstein : 1.80 - data : 1.43)\n",
      "Mean train accuracy : 1.04\n",
      "Mean train loss : 2.84 (Wasserstein : 1.59 - data : 1.25)\n",
      "Mean train accuracy : 0.97\n",
      "Mean train loss : 2.54 (Wasserstein : 1.44 - data : 1.10)\n",
      "Mean train accuracy : 0.92\n",
      "Mean train loss : 2.37 (Wasserstein : 1.35 - data : 1.02)\n",
      "Mean train accuracy : 0.89\n",
      "Mean train loss : 2.25 (Wasserstein : 1.27 - data : 0.97)\n",
      "Mean train accuracy : 0.87\n",
      "Mean train loss : 2.03 (Wasserstein : 1.18 - data : 0.85)\n",
      "Mean train accuracy : 0.83\n",
      "Mean train loss : 1.95 (Wasserstein : 1.14 - data : 0.81)\n",
      "Mean train accuracy : 0.82\n",
      "Mean train loss : 2.72 (Wasserstein : 1.45 - data : 1.27)\n",
      "Mean train accuracy : 0.91\n",
      "\n"
     ]
    },
    {
     "data": {
      "application/vnd.jupyter.widget-view+json": {
       "model_id": "846bfa9121b04921ad2485d0574f58e3",
       "version_major": 2,
       "version_minor": 0
      },
      "text/plain": [
       "HBox(children=(FloatProgress(value=0.0, description='Evaluating', max=235.0, style=ProgressStyle(description_w…"
      ]
     },
     "metadata": {},
     "output_type": "display_data"
    },
    {
     "name": "stdout",
     "output_type": "stream",
     "text": [
      "\n",
      "Error : 0.944+-0.769\n",
      "Relative MAE = 0.096\n",
      "MSE = 1.482\n",
      "Relative MSE = 0.131\n",
      "Correlation = 0.984\n",
      "Error quantiles : 1% : 0.01| 50% : 0.76| 99% : 3.40\n",
      "Mean distance : 11.14\n",
      "\n",
      "p = 0.04308869380063767\n"
     ]
    },
    {
     "data": {
      "application/vnd.jupyter.widget-view+json": {
       "model_id": "a062401569fe4190bb0c716c739133a5",
       "version_major": 2,
       "version_minor": 0
      },
      "text/plain": [
       "HBox(children=(FloatProgress(value=0.0, max=100000.0), HTML(value='')))"
      ]
     },
     "metadata": {},
     "output_type": "display_data"
    },
    {
     "name": "stdout",
     "output_type": "stream",
     "text": [
      "\n"
     ]
    },
    {
     "data": {
      "application/vnd.jupyter.widget-view+json": {
       "model_id": "5d17ff902e0a493bad833460de97cdf0",
       "version_major": 2,
       "version_minor": 0
      },
      "text/plain": [
       "HBox(children=(FloatProgress(value=0.0, max=30000.0), HTML(value='')))"
      ]
     },
     "metadata": {},
     "output_type": "display_data"
    },
    {
     "name": "stdout",
     "output_type": "stream",
     "text": [
      "\n"
     ]
    },
    {
     "data": {
      "application/vnd.jupyter.widget-view+json": {
       "model_id": "267b6cda41584ad59adc4ce62689647d",
       "version_major": 2,
       "version_minor": 0
      },
      "text/plain": [
       "HBox(children=(FloatProgress(value=0.0, max=10.0), HTML(value='')))"
      ]
     },
     "metadata": {},
     "output_type": "display_data"
    },
    {
     "name": "stdout",
     "output_type": "stream",
     "text": [
      "Mean train loss : 45.49 (Wasserstein : 40.62 - data : 4.87)\n",
      "Mean train accuracy : 4.18\n",
      "Mean train loss : 5.54 (Wasserstein : 3.38 - data : 2.16)\n",
      "Mean train accuracy : 1.43\n",
      "Mean train loss : 3.44 (Wasserstein : 1.96 - data : 1.49)\n",
      "Mean train accuracy : 1.08\n",
      "Mean train loss : 2.95 (Wasserstein : 1.70 - data : 1.25)\n",
      "Mean train accuracy : 1.00\n",
      "Mean train loss : 2.61 (Wasserstein : 1.48 - data : 1.12)\n",
      "Mean train accuracy : 0.94\n",
      "Mean train loss : 2.38 (Wasserstein : 1.35 - data : 1.03)\n",
      "Mean train accuracy : 0.89\n",
      "Mean train loss : 2.24 (Wasserstein : 1.29 - data : 0.95)\n",
      "Mean train accuracy : 0.87\n",
      "Mean train loss : 2.16 (Wasserstein : 1.24 - data : 0.91)\n",
      "Mean train accuracy : 0.85\n",
      "Mean train loss : 2.10 (Wasserstein : 1.22 - data : 0.88)\n",
      "Mean train accuracy : 0.85\n",
      "Mean train loss : 2.01 (Wasserstein : 1.17 - data : 0.84)\n",
      "Mean train accuracy : 0.83\n",
      "\n"
     ]
    },
    {
     "data": {
      "application/vnd.jupyter.widget-view+json": {
       "model_id": "6a1566b02ba847839a5b82224b20e555",
       "version_major": 2,
       "version_minor": 0
      },
      "text/plain": [
       "HBox(children=(FloatProgress(value=0.0, description='Evaluating', max=235.0, style=ProgressStyle(description_w…"
      ]
     },
     "metadata": {},
     "output_type": "display_data"
    },
    {
     "name": "stdout",
     "output_type": "stream",
     "text": [
      "\n",
      "Error : 0.811+-0.681\n",
      "Relative MAE = 0.086\n",
      "MSE = 1.122\n",
      "Relative MSE = 0.106\n",
      "Correlation = 0.983\n",
      "Error quantiles : 1% : 0.01| 50% : 0.65| 99% : 3.08\n",
      "Mean distance : 11.14\n",
      "\n",
      "p = 0.09283177667225556\n"
     ]
    },
    {
     "data": {
      "application/vnd.jupyter.widget-view+json": {
       "model_id": "ddef6507f97c4878a8607307893c8143",
       "version_major": 2,
       "version_minor": 0
      },
      "text/plain": [
       "HBox(children=(FloatProgress(value=0.0, max=100000.0), HTML(value='')))"
      ]
     },
     "metadata": {},
     "output_type": "display_data"
    },
    {
     "name": "stdout",
     "output_type": "stream",
     "text": [
      "\n"
     ]
    },
    {
     "data": {
      "application/vnd.jupyter.widget-view+json": {
       "model_id": "b9887184ee24463cb5c88264b98c196d",
       "version_major": 2,
       "version_minor": 0
      },
      "text/plain": [
       "HBox(children=(FloatProgress(value=0.0, max=30000.0), HTML(value='')))"
      ]
     },
     "metadata": {},
     "output_type": "display_data"
    },
    {
     "name": "stdout",
     "output_type": "stream",
     "text": [
      "\n"
     ]
    },
    {
     "data": {
      "application/vnd.jupyter.widget-view+json": {
       "model_id": "9d1f3f5a0ef74e2e8e7f768792e66826",
       "version_major": 2,
       "version_minor": 0
      },
      "text/plain": [
       "HBox(children=(FloatProgress(value=0.0, max=10.0), HTML(value='')))"
      ]
     },
     "metadata": {},
     "output_type": "display_data"
    },
    {
     "name": "stdout",
     "output_type": "stream",
     "text": [
      "Mean train loss : 29.86 (Wasserstein : 24.78 - data : 5.08)\n",
      "Mean train accuracy : 3.24\n",
      "Mean train loss : 4.67 (Wasserstein : 2.77 - data : 1.90)\n",
      "Mean train accuracy : 1.29\n",
      "Mean train loss : 3.35 (Wasserstein : 1.98 - data : 1.37)\n",
      "Mean train accuracy : 1.08\n",
      "Mean train loss : 2.89 (Wasserstein : 1.72 - data : 1.17)\n",
      "Mean train accuracy : 1.01\n",
      "Mean train loss : 2.64 (Wasserstein : 1.57 - data : 1.07)\n",
      "Mean train accuracy : 0.96\n",
      "Mean train loss : 2.44 (Wasserstein : 1.46 - data : 0.98)\n",
      "Mean train accuracy : 0.93\n",
      "Mean train loss : 2.33 (Wasserstein : 1.41 - data : 0.93)\n",
      "Mean train accuracy : 0.91\n",
      "Mean train loss : 2.20 (Wasserstein : 1.33 - data : 0.86)\n",
      "Mean train accuracy : 0.88\n",
      "Mean train loss : 2.08 (Wasserstein : 1.25 - data : 0.83)\n",
      "Mean train accuracy : 0.86\n",
      "Mean train loss : 1.98 (Wasserstein : 1.21 - data : 0.77)\n",
      "Mean train accuracy : 0.84\n",
      "\n"
     ]
    },
    {
     "data": {
      "application/vnd.jupyter.widget-view+json": {
       "model_id": "67bfd144b78d496581eccb25bb6054a0",
       "version_major": 2,
       "version_minor": 0
      },
      "text/plain": [
       "HBox(children=(FloatProgress(value=0.0, description='Evaluating', max=235.0, style=ProgressStyle(description_w…"
      ]
     },
     "metadata": {},
     "output_type": "display_data"
    },
    {
     "name": "stdout",
     "output_type": "stream",
     "text": [
      "\n",
      "Error : 0.811+-0.698\n",
      "Relative MAE = 0.087\n",
      "MSE = 1.145\n",
      "Relative MSE = 0.107\n",
      "Correlation = 0.984\n",
      "Error quantiles : 1% : 0.01| 50% : 0.64| 99% : 3.15\n",
      "Mean distance : 11.07\n",
      "\n",
      "p = 0.20000000000000004\n"
     ]
    },
    {
     "data": {
      "application/vnd.jupyter.widget-view+json": {
       "model_id": "fb9d3db9964146bf8f06c53e8aa70893",
       "version_major": 2,
       "version_minor": 0
      },
      "text/plain": [
       "HBox(children=(FloatProgress(value=0.0, max=100000.0), HTML(value='')))"
      ]
     },
     "metadata": {},
     "output_type": "display_data"
    },
    {
     "name": "stdout",
     "output_type": "stream",
     "text": [
      "\n"
     ]
    },
    {
     "data": {
      "application/vnd.jupyter.widget-view+json": {
       "model_id": "ea8cecfa77354e358f8d3c11a9a67f9e",
       "version_major": 2,
       "version_minor": 0
      },
      "text/plain": [
       "HBox(children=(FloatProgress(value=0.0, max=30000.0), HTML(value='')))"
      ]
     },
     "metadata": {},
     "output_type": "display_data"
    },
    {
     "name": "stdout",
     "output_type": "stream",
     "text": [
      "\n"
     ]
    },
    {
     "data": {
      "application/vnd.jupyter.widget-view+json": {
       "model_id": "33ba47c55104494cb80bd7b7b993f2ba",
       "version_major": 2,
       "version_minor": 0
      },
      "text/plain": [
       "HBox(children=(FloatProgress(value=0.0, max=10.0), HTML(value='')))"
      ]
     },
     "metadata": {},
     "output_type": "display_data"
    },
    {
     "name": "stdout",
     "output_type": "stream",
     "text": [
      "Mean train loss : 31.88 (Wasserstein : 25.09 - data : 6.79)\n",
      "Mean train accuracy : 3.14\n",
      "Mean train loss : 5.66 (Wasserstein : 2.98 - data : 2.67)\n",
      "Mean train accuracy : 1.34\n",
      "Mean train loss : 3.39 (Wasserstein : 1.94 - data : 1.45)\n",
      "Mean train accuracy : 1.08\n",
      "Mean train loss : 2.87 (Wasserstein : 1.64 - data : 1.24)\n",
      "Mean train accuracy : 0.98\n",
      "Mean train loss : 2.51 (Wasserstein : 1.43 - data : 1.09)\n",
      "Mean train accuracy : 0.92\n",
      "Mean train loss : 2.29 (Wasserstein : 1.31 - data : 0.98)\n",
      "Mean train accuracy : 0.87\n",
      "Mean train loss : 3.71 (Wasserstein : 1.63 - data : 2.08)\n",
      "Mean train accuracy : 0.96\n",
      "Mean train loss : 2.21 (Wasserstein : 1.23 - data : 0.98)\n",
      "Mean train accuracy : 0.84\n",
      "Mean train loss : 1.98 (Wasserstein : 1.14 - data : 0.84)\n",
      "Mean train accuracy : 0.81\n",
      "Mean train loss : 1.83 (Wasserstein : 1.05 - data : 0.78)\n",
      "Mean train accuracy : 0.78\n",
      "\n"
     ]
    },
    {
     "data": {
      "application/vnd.jupyter.widget-view+json": {
       "model_id": "b71d171df0e547c084b41be2181cfbc3",
       "version_major": 2,
       "version_minor": 0
      },
      "text/plain": [
       "HBox(children=(FloatProgress(value=0.0, description='Evaluating', max=235.0, style=ProgressStyle(description_w…"
      ]
     },
     "metadata": {},
     "output_type": "display_data"
    },
    {
     "name": "stdout",
     "output_type": "stream",
     "text": [
      "\n",
      "Error : 0.805+-0.687\n",
      "Relative MAE = 0.085\n",
      "MSE = 1.121\n",
      "Relative MSE = 0.104\n",
      "Correlation = 0.986\n",
      "Error quantiles : 1% : 0.01| 50% : 0.63| 99% : 3.11\n",
      "Mean distance : 11.15\n",
      "\n",
      "p = 0.43088693800637673\n"
     ]
    },
    {
     "data": {
      "application/vnd.jupyter.widget-view+json": {
       "model_id": "f1842d6cc58545de9de5410a32ec8493",
       "version_major": 2,
       "version_minor": 0
      },
      "text/plain": [
       "HBox(children=(FloatProgress(value=0.0, max=100000.0), HTML(value='')))"
      ]
     },
     "metadata": {},
     "output_type": "display_data"
    },
    {
     "name": "stdout",
     "output_type": "stream",
     "text": [
      "\n"
     ]
    },
    {
     "data": {
      "application/vnd.jupyter.widget-view+json": {
       "model_id": "12ebeaf03b714102b39b415dafc5e04b",
       "version_major": 2,
       "version_minor": 0
      },
      "text/plain": [
       "HBox(children=(FloatProgress(value=0.0, max=30000.0), HTML(value='')))"
      ]
     },
     "metadata": {},
     "output_type": "display_data"
    },
    {
     "name": "stdout",
     "output_type": "stream",
     "text": [
      "\n"
     ]
    },
    {
     "data": {
      "application/vnd.jupyter.widget-view+json": {
       "model_id": "c8dcbfc8f05d4d6d8a7f3c3a9c883ebe",
       "version_major": 2,
       "version_minor": 0
      },
      "text/plain": [
       "HBox(children=(FloatProgress(value=0.0, max=10.0), HTML(value='')))"
      ]
     },
     "metadata": {},
     "output_type": "display_data"
    },
    {
     "name": "stdout",
     "output_type": "stream",
     "text": [
      "Mean train loss : 34.01 (Wasserstein : 29.35 - data : 4.66)\n",
      "Mean train accuracy : 3.59\n",
      "Mean train loss : 6.27 (Wasserstein : 3.89 - data : 2.38)\n",
      "Mean train accuracy : 1.54\n",
      "Mean train loss : 4.01 (Wasserstein : 2.32 - data : 1.69)\n",
      "Mean train accuracy : 1.18\n",
      "Mean train loss : 3.23 (Wasserstein : 1.82 - data : 1.41)\n",
      "Mean train accuracy : 1.05\n",
      "Mean train loss : 2.77 (Wasserstein : 1.55 - data : 1.22)\n",
      "Mean train accuracy : 0.96\n",
      "Mean train loss : 2.39 (Wasserstein : 1.36 - data : 1.04)\n",
      "Mean train accuracy : 0.90\n",
      "Mean train loss : 2.16 (Wasserstein : 1.23 - data : 0.93)\n",
      "Mean train accuracy : 0.85\n",
      "Mean train loss : 2.08 (Wasserstein : 1.19 - data : 0.89)\n",
      "Mean train accuracy : 0.84\n",
      "Mean train loss : 1.98 (Wasserstein : 1.14 - data : 0.84)\n",
      "Mean train accuracy : 0.82\n",
      "Mean train loss : 1.86 (Wasserstein : 1.09 - data : 0.78)\n",
      "Mean train accuracy : 0.80\n",
      "\n"
     ]
    },
    {
     "data": {
      "application/vnd.jupyter.widget-view+json": {
       "model_id": "66f21dba56b349848bfc248ef4f855df",
       "version_major": 2,
       "version_minor": 0
      },
      "text/plain": [
       "HBox(children=(FloatProgress(value=0.0, description='Evaluating', max=235.0, style=ProgressStyle(description_w…"
      ]
     },
     "metadata": {},
     "output_type": "display_data"
    },
    {
     "name": "stdout",
     "output_type": "stream",
     "text": [
      "\n",
      "Error : 0.817+-0.683\n",
      "Relative MAE = 0.087\n",
      "MSE = 1.135\n",
      "Relative MSE = 0.108\n",
      "Correlation = 0.985\n",
      "Error quantiles : 1% : 0.01| 50% : 0.65| 99% : 3.06\n",
      "Mean distance : 11.18\n",
      "\n",
      "p = 0.9283177667225556\n"
     ]
    },
    {
     "data": {
      "application/vnd.jupyter.widget-view+json": {
       "model_id": "16b215574787446a9cc75c736b5cfc4c",
       "version_major": 2,
       "version_minor": 0
      },
      "text/plain": [
       "HBox(children=(FloatProgress(value=0.0, max=100000.0), HTML(value='')))"
      ]
     },
     "metadata": {},
     "output_type": "display_data"
    },
    {
     "name": "stdout",
     "output_type": "stream",
     "text": [
      "\n"
     ]
    },
    {
     "data": {
      "application/vnd.jupyter.widget-view+json": {
       "model_id": "b90385ac2ce94ee49e496dd35d25dd50",
       "version_major": 2,
       "version_minor": 0
      },
      "text/plain": [
       "HBox(children=(FloatProgress(value=0.0, max=30000.0), HTML(value='')))"
      ]
     },
     "metadata": {},
     "output_type": "display_data"
    },
    {
     "name": "stdout",
     "output_type": "stream",
     "text": [
      "\n"
     ]
    },
    {
     "data": {
      "application/vnd.jupyter.widget-view+json": {
       "model_id": "bb96c45df54f42c7b4e340c338291c25",
       "version_major": 2,
       "version_minor": 0
      },
      "text/plain": [
       "HBox(children=(FloatProgress(value=0.0, max=10.0), HTML(value='')))"
      ]
     },
     "metadata": {},
     "output_type": "display_data"
    },
    {
     "name": "stdout",
     "output_type": "stream",
     "text": [
      "Mean train loss : 28.13 (Wasserstein : 23.46 - data : 4.66)\n",
      "Mean train accuracy : 3.20\n",
      "Mean train loss : 4.58 (Wasserstein : 2.76 - data : 1.82)\n",
      "Mean train accuracy : 1.29\n",
      "Mean train loss : 3.28 (Wasserstein : 1.92 - data : 1.36)\n",
      "Mean train accuracy : 1.07\n",
      "Mean train loss : 2.90 (Wasserstein : 1.71 - data : 1.19)\n",
      "Mean train accuracy : 1.01\n",
      "Mean train loss : 2.53 (Wasserstein : 1.49 - data : 1.04)\n",
      "Mean train accuracy : 0.94\n",
      "Mean train loss : 2.39 (Wasserstein : 1.40 - data : 0.99)\n",
      "Mean train accuracy : 0.91\n",
      "Mean train loss : 3.56 (Wasserstein : 1.76 - data : 1.80)\n",
      "Mean train accuracy : 1.01\n",
      "Mean train loss : 2.28 (Wasserstein : 1.38 - data : 0.90)\n",
      "Mean train accuracy : 0.90\n",
      "Mean train loss : 2.14 (Wasserstein : 1.31 - data : 0.83)\n",
      "Mean train accuracy : 0.88\n",
      "Mean train loss : 2.25 (Wasserstein : 1.32 - data : 0.92)\n",
      "Mean train accuracy : 0.88\n",
      "\n"
     ]
    },
    {
     "data": {
      "application/vnd.jupyter.widget-view+json": {
       "model_id": "f02bd1196e874851b455dcf3b635987b",
       "version_major": 2,
       "version_minor": 0
      },
      "text/plain": [
       "HBox(children=(FloatProgress(value=0.0, description='Evaluating', max=235.0, style=ProgressStyle(description_w…"
      ]
     },
     "metadata": {},
     "output_type": "display_data"
    },
    {
     "name": "stdout",
     "output_type": "stream",
     "text": [
      "\n",
      "Error : 0.909+-0.742\n",
      "Relative MAE = 0.098\n",
      "MSE = 1.377\n",
      "Relative MSE = 0.131\n",
      "Correlation = 0.983\n",
      "Error quantiles : 1% : 0.01| 50% : 0.73| 99% : 3.36\n",
      "Mean distance : 11.08\n",
      "\n",
      "p = 2.0000000000000004\n"
     ]
    },
    {
     "data": {
      "application/vnd.jupyter.widget-view+json": {
       "model_id": "04280ccfb2fd4f709ef1c24117ef8872",
       "version_major": 2,
       "version_minor": 0
      },
      "text/plain": [
       "HBox(children=(FloatProgress(value=0.0, max=100000.0), HTML(value='')))"
      ]
     },
     "metadata": {},
     "output_type": "display_data"
    },
    {
     "name": "stdout",
     "output_type": "stream",
     "text": [
      "\n"
     ]
    },
    {
     "data": {
      "application/vnd.jupyter.widget-view+json": {
       "model_id": "5306f4e2b4524598b67fb0e272c76e3e",
       "version_major": 2,
       "version_minor": 0
      },
      "text/plain": [
       "HBox(children=(FloatProgress(value=0.0, max=30000.0), HTML(value='')))"
      ]
     },
     "metadata": {},
     "output_type": "display_data"
    },
    {
     "name": "stdout",
     "output_type": "stream",
     "text": [
      "\n"
     ]
    },
    {
     "data": {
      "application/vnd.jupyter.widget-view+json": {
       "model_id": "936f5ed646dd484c8963ebfb1024a2b9",
       "version_major": 2,
       "version_minor": 0
      },
      "text/plain": [
       "HBox(children=(FloatProgress(value=0.0, max=10.0), HTML(value='')))"
      ]
     },
     "metadata": {},
     "output_type": "display_data"
    },
    {
     "name": "stdout",
     "output_type": "stream",
     "text": [
      "Mean train loss : 26.72 (Wasserstein : 21.54 - data : 5.18)\n",
      "Mean train accuracy : 3.04\n",
      "Mean train loss : 5.07 (Wasserstein : 3.04 - data : 2.03)\n",
      "Mean train accuracy : 1.36\n",
      "Mean train loss : 3.57 (Wasserstein : 2.08 - data : 1.49)\n",
      "Mean train accuracy : 1.12\n",
      "Mean train loss : 2.92 (Wasserstein : 1.71 - data : 1.20)\n",
      "Mean train accuracy : 1.01\n",
      "Mean train loss : 3.36 (Wasserstein : 1.70 - data : 1.66)\n",
      "Mean train accuracy : 0.99\n",
      "Mean train loss : 2.90 (Wasserstein : 1.68 - data : 1.22)\n",
      "Mean train accuracy : 0.99\n",
      "Mean train loss : 2.40 (Wasserstein : 1.41 - data : 0.99)\n",
      "Mean train accuracy : 0.91\n",
      "Mean train loss : 2.29 (Wasserstein : 1.35 - data : 0.94)\n",
      "Mean train accuracy : 0.89\n",
      "Mean train loss : 2.13 (Wasserstein : 1.26 - data : 0.87)\n",
      "Mean train accuracy : 0.86\n",
      "Mean train loss : 2.04 (Wasserstein : 1.19 - data : 0.85)\n",
      "Mean train accuracy : 0.83\n",
      "\n"
     ]
    },
    {
     "data": {
      "application/vnd.jupyter.widget-view+json": {
       "model_id": "1322fa4784e84597a93ba6a0137a099c",
       "version_major": 2,
       "version_minor": 0
      },
      "text/plain": [
       "HBox(children=(FloatProgress(value=0.0, description='Evaluating', max=235.0, style=ProgressStyle(description_w…"
      ]
     },
     "metadata": {},
     "output_type": "display_data"
    },
    {
     "name": "stdout",
     "output_type": "stream",
     "text": [
      "\n",
      "Error : 0.844+-0.726\n",
      "Relative MAE = 0.087\n",
      "MSE = 1.239\n",
      "Relative MSE = 0.112\n",
      "Correlation = 0.985\n",
      "Error quantiles : 1% : 0.01| 50% : 0.67| 99% : 3.30\n",
      "Mean distance : 11.12\n",
      "\n",
      "p = 4.308869380063765\n"
     ]
    },
    {
     "data": {
      "application/vnd.jupyter.widget-view+json": {
       "model_id": "5bec00f30c5a45d593f8f962b449b1c1",
       "version_major": 2,
       "version_minor": 0
      },
      "text/plain": [
       "HBox(children=(FloatProgress(value=0.0, max=100000.0), HTML(value='')))"
      ]
     },
     "metadata": {},
     "output_type": "display_data"
    },
    {
     "name": "stdout",
     "output_type": "stream",
     "text": [
      "\n"
     ]
    },
    {
     "data": {
      "application/vnd.jupyter.widget-view+json": {
       "model_id": "2378b5dc1f41473a83a686a4b122a5af",
       "version_major": 2,
       "version_minor": 0
      },
      "text/plain": [
       "HBox(children=(FloatProgress(value=0.0, max=30000.0), HTML(value='')))"
      ]
     },
     "metadata": {},
     "output_type": "display_data"
    },
    {
     "name": "stdout",
     "output_type": "stream",
     "text": [
      "\n"
     ]
    },
    {
     "data": {
      "application/vnd.jupyter.widget-view+json": {
       "model_id": "96e34ec8b8024078a0bc5778135f5267",
       "version_major": 2,
       "version_minor": 0
      },
      "text/plain": [
       "HBox(children=(FloatProgress(value=0.0, max=10.0), HTML(value='')))"
      ]
     },
     "metadata": {},
     "output_type": "display_data"
    },
    {
     "name": "stdout",
     "output_type": "stream",
     "text": [
      "Mean train loss : 49.48 (Wasserstein : 44.43 - data : 5.05)\n",
      "Mean train accuracy : 4.18\n",
      "Mean train loss : 3.89 (Wasserstein : 2.17 - data : 1.72)\n",
      "Mean train accuracy : 1.14\n",
      "Mean train loss : 2.96 (Wasserstein : 1.65 - data : 1.31)\n",
      "Mean train accuracy : 0.99\n",
      "Mean train loss : 3.56 (Wasserstein : 1.64 - data : 1.93)\n",
      "Mean train accuracy : 0.97\n",
      "Mean train loss : 3.31 (Wasserstein : 1.88 - data : 1.43)\n",
      "Mean train accuracy : 1.05\n",
      "Mean train loss : 2.56 (Wasserstein : 1.58 - data : 0.98)\n",
      "Mean train accuracy : 0.96\n",
      "Mean train loss : 2.93 (Wasserstein : 1.52 - data : 1.41)\n",
      "Mean train accuracy : 0.94\n",
      "Mean train loss : 2.29 (Wasserstein : 1.44 - data : 0.85)\n",
      "Mean train accuracy : 0.92\n",
      "Mean train loss : 2.08 (Wasserstein : 1.28 - data : 0.80)\n",
      "Mean train accuracy : 0.86\n",
      "Mean train loss : 1.91 (Wasserstein : 1.14 - data : 0.77)\n",
      "Mean train accuracy : 0.81\n",
      "\n"
     ]
    },
    {
     "data": {
      "application/vnd.jupyter.widget-view+json": {
       "model_id": "f0a959ab797e44a483ac9b2937498fdf",
       "version_major": 2,
       "version_minor": 0
      },
      "text/plain": [
       "HBox(children=(FloatProgress(value=0.0, description='Evaluating', max=235.0, style=ProgressStyle(description_w…"
      ]
     },
     "metadata": {},
     "output_type": "display_data"
    },
    {
     "name": "stdout",
     "output_type": "stream",
     "text": [
      "\n",
      "Error : 0.770+-0.651\n",
      "Relative MAE = 0.084\n",
      "MSE = 1.016\n",
      "Relative MSE = 0.101\n",
      "Correlation = 0.986\n",
      "Error quantiles : 1% : 0.01| 50% : 0.61| 99% : 2.93\n",
      "Mean distance : 11.16\n",
      "\n",
      "p = 9.283177667225555\n"
     ]
    },
    {
     "data": {
      "application/vnd.jupyter.widget-view+json": {
       "model_id": "b012c0f655aa486b89b2a195aa6418e7",
       "version_major": 2,
       "version_minor": 0
      },
      "text/plain": [
       "HBox(children=(FloatProgress(value=0.0, max=100000.0), HTML(value='')))"
      ]
     },
     "metadata": {},
     "output_type": "display_data"
    },
    {
     "name": "stdout",
     "output_type": "stream",
     "text": [
      "\n"
     ]
    },
    {
     "data": {
      "application/vnd.jupyter.widget-view+json": {
       "model_id": "bc3bcf270a004ab2b21457de4231339e",
       "version_major": 2,
       "version_minor": 0
      },
      "text/plain": [
       "HBox(children=(FloatProgress(value=0.0, max=30000.0), HTML(value='')))"
      ]
     },
     "metadata": {},
     "output_type": "display_data"
    },
    {
     "name": "stdout",
     "output_type": "stream",
     "text": [
      "\n"
     ]
    },
    {
     "data": {
      "application/vnd.jupyter.widget-view+json": {
       "model_id": "92ee8cec151f4d78ae9f45eefa285fa8",
       "version_major": 2,
       "version_minor": 0
      },
      "text/plain": [
       "HBox(children=(FloatProgress(value=0.0, max=10.0), HTML(value='')))"
      ]
     },
     "metadata": {},
     "output_type": "display_data"
    },
    {
     "name": "stdout",
     "output_type": "stream",
     "text": [
      "Mean train loss : 20.78 (Wasserstein : 17.04 - data : 3.75)\n",
      "Mean train accuracy : 2.62\n",
      "Mean train loss : 3.78 (Wasserstein : 2.19 - data : 1.59)\n",
      "Mean train accuracy : 1.15\n",
      "Mean train loss : 5.14 (Wasserstein : 2.24 - data : 2.90)\n",
      "Mean train accuracy : 1.15\n",
      "Mean train loss : 2.96 (Wasserstein : 1.76 - data : 1.20)\n",
      "Mean train accuracy : 1.02\n",
      "Mean train loss : 2.66 (Wasserstein : 1.58 - data : 1.08)\n",
      "Mean train accuracy : 0.96\n",
      "Mean train loss : 2.44 (Wasserstein : 1.48 - data : 0.96)\n",
      "Mean train accuracy : 0.93\n",
      "Mean train loss : 2.28 (Wasserstein : 1.40 - data : 0.88)\n",
      "Mean train accuracy : 0.90\n",
      "Mean train loss : 2.04 (Wasserstein : 1.25 - data : 0.79)\n",
      "Mean train accuracy : 0.85\n",
      "Mean train loss : 1.90 (Wasserstein : 1.15 - data : 0.75)\n",
      "Mean train accuracy : 0.82\n",
      "Mean train loss : 1.77 (Wasserstein : 1.06 - data : 0.70)\n",
      "Mean train accuracy : 0.78\n",
      "\n"
     ]
    },
    {
     "data": {
      "application/vnd.jupyter.widget-view+json": {
       "model_id": "a40e669e1a1a45e49d3f4cc6cf2a0fe2",
       "version_major": 2,
       "version_minor": 0
      },
      "text/plain": [
       "HBox(children=(FloatProgress(value=0.0, description='Evaluating', max=235.0, style=ProgressStyle(description_w…"
      ]
     },
     "metadata": {},
     "output_type": "display_data"
    },
    {
     "name": "stdout",
     "output_type": "stream",
     "text": [
      "\n",
      "Error : 0.795+-0.691\n",
      "Relative MAE = 0.082\n",
      "MSE = 1.110\n",
      "Relative MSE = 0.101\n",
      "Correlation = 0.983\n",
      "Error quantiles : 1% : 0.01| 50% : 0.62| 99% : 3.19\n",
      "Mean distance : 11.07\n",
      "\n",
      "p = 20.000000000000004\n"
     ]
    },
    {
     "data": {
      "application/vnd.jupyter.widget-view+json": {
       "model_id": "44ca6f7dab424560b41a4207306b02c2",
       "version_major": 2,
       "version_minor": 0
      },
      "text/plain": [
       "HBox(children=(FloatProgress(value=0.0, max=100000.0), HTML(value='')))"
      ]
     },
     "metadata": {},
     "output_type": "display_data"
    },
    {
     "name": "stdout",
     "output_type": "stream",
     "text": [
      "\n"
     ]
    },
    {
     "data": {
      "application/vnd.jupyter.widget-view+json": {
       "model_id": "17ed29956fa246febe7dd9a518624920",
       "version_major": 2,
       "version_minor": 0
      },
      "text/plain": [
       "HBox(children=(FloatProgress(value=0.0, max=30000.0), HTML(value='')))"
      ]
     },
     "metadata": {},
     "output_type": "display_data"
    },
    {
     "name": "stdout",
     "output_type": "stream",
     "text": [
      "\n"
     ]
    },
    {
     "data": {
      "application/vnd.jupyter.widget-view+json": {
       "model_id": "9acd9896d67641bbafc6221444056399",
       "version_major": 2,
       "version_minor": 0
      },
      "text/plain": [
       "HBox(children=(FloatProgress(value=0.0, max=10.0), HTML(value='')))"
      ]
     },
     "metadata": {},
     "output_type": "display_data"
    },
    {
     "name": "stdout",
     "output_type": "stream",
     "text": [
      "Mean train loss : 97.49 (Wasserstein : 90.56 - data : 6.93)\n",
      "Mean train accuracy : 7.18\n",
      "Mean train loss : 5.33 (Wasserstein : 3.00 - data : 2.33)\n",
      "Mean train accuracy : 1.34\n",
      "Mean train loss : 3.85 (Wasserstein : 2.30 - data : 1.55)\n",
      "Mean train accuracy : 1.17\n",
      "Mean train loss : 3.47 (Wasserstein : 2.07 - data : 1.40)\n",
      "Mean train accuracy : 1.11\n",
      "Mean train loss : 3.07 (Wasserstein : 1.84 - data : 1.24)\n",
      "Mean train accuracy : 1.04\n",
      "Mean train loss : 2.83 (Wasserstein : 1.69 - data : 1.14)\n",
      "Mean train accuracy : 1.00\n",
      "Mean train loss : 2.62 (Wasserstein : 1.55 - data : 1.07)\n",
      "Mean train accuracy : 0.96\n",
      "Mean train loss : 2.47 (Wasserstein : 1.47 - data : 1.00)\n",
      "Mean train accuracy : 0.93\n",
      "Mean train loss : 2.36 (Wasserstein : 1.41 - data : 0.95)\n",
      "Mean train accuracy : 0.91\n",
      "Mean train loss : 2.30 (Wasserstein : 1.38 - data : 0.92)\n",
      "Mean train accuracy : 0.90\n",
      "\n"
     ]
    },
    {
     "data": {
      "application/vnd.jupyter.widget-view+json": {
       "model_id": "0376c7ae53284181ae3a363ba2c269e4",
       "version_major": 2,
       "version_minor": 0
      },
      "text/plain": [
       "HBox(children=(FloatProgress(value=0.0, description='Evaluating', max=235.0, style=ProgressStyle(description_w…"
      ]
     },
     "metadata": {},
     "output_type": "display_data"
    },
    {
     "name": "stdout",
     "output_type": "stream",
     "text": [
      "\n",
      "Error : 0.880+-0.724\n",
      "Relative MAE = 0.096\n",
      "MSE = 1.299\n",
      "Relative MSE = 0.127\n",
      "Correlation = 0.981\n",
      "Error quantiles : 1% : 0.01| 50% : 0.71| 99% : 3.26\n",
      "Mean distance : 11.08\n",
      "\n"
     ]
    }
   ],
   "source": [
    "list_p = np.geomspace(0.02, 20, 10)\n",
    "print(list_p)\n",
    "data = {}\n",
    "for p in list_p:\n",
    "    preds, ys = performance_ds(ds, test_ds, p, n_train=100000, n_test=30000, cuda=True)\n",
    "    data[p] = (preds, ys)"
   ]
  },
  {
   "cell_type": "code",
   "execution_count": 21,
   "metadata": {},
   "outputs": [],
   "source": [
    "errors = [0.944, 0.811, 0.811, 0.805, 0.817, 0.909, 0.844, 0.77, 0.795, 0.880]\n",
    "std = [0.769, 0.681, 0.698, 0.687, 0.683, 0.742, 0.726, 0.651, 0.691, 0.724]"
   ]
  },
  {
   "cell_type": "code",
   "execution_count": 29,
   "metadata": {},
   "outputs": [
    {
     "data": {
      "application/javascript": [
       "/* Put everything inside the global mpl namespace */\n",
       "window.mpl = {};\n",
       "\n",
       "\n",
       "mpl.get_websocket_type = function() {\n",
       "    if (typeof(WebSocket) !== 'undefined') {\n",
       "        return WebSocket;\n",
       "    } else if (typeof(MozWebSocket) !== 'undefined') {\n",
       "        return MozWebSocket;\n",
       "    } else {\n",
       "        alert('Your browser does not have WebSocket support. ' +\n",
       "              'Please try Chrome, Safari or Firefox ≥ 6. ' +\n",
       "              'Firefox 4 and 5 are also supported but you ' +\n",
       "              'have to enable WebSockets in about:config.');\n",
       "    };\n",
       "}\n",
       "\n",
       "mpl.figure = function(figure_id, websocket, ondownload, parent_element) {\n",
       "    this.id = figure_id;\n",
       "\n",
       "    this.ws = websocket;\n",
       "\n",
       "    this.supports_binary = (this.ws.binaryType != undefined);\n",
       "\n",
       "    if (!this.supports_binary) {\n",
       "        var warnings = document.getElementById(\"mpl-warnings\");\n",
       "        if (warnings) {\n",
       "            warnings.style.display = 'block';\n",
       "            warnings.textContent = (\n",
       "                \"This browser does not support binary websocket messages. \" +\n",
       "                    \"Performance may be slow.\");\n",
       "        }\n",
       "    }\n",
       "\n",
       "    this.imageObj = new Image();\n",
       "\n",
       "    this.context = undefined;\n",
       "    this.message = undefined;\n",
       "    this.canvas = undefined;\n",
       "    this.rubberband_canvas = undefined;\n",
       "    this.rubberband_context = undefined;\n",
       "    this.format_dropdown = undefined;\n",
       "\n",
       "    this.image_mode = 'full';\n",
       "\n",
       "    this.root = $('<div/>');\n",
       "    this._root_extra_style(this.root)\n",
       "    this.root.attr('style', 'display: inline-block');\n",
       "\n",
       "    $(parent_element).append(this.root);\n",
       "\n",
       "    this._init_header(this);\n",
       "    this._init_canvas(this);\n",
       "    this._init_toolbar(this);\n",
       "\n",
       "    var fig = this;\n",
       "\n",
       "    this.waiting = false;\n",
       "\n",
       "    this.ws.onopen =  function () {\n",
       "            fig.send_message(\"supports_binary\", {value: fig.supports_binary});\n",
       "            fig.send_message(\"send_image_mode\", {});\n",
       "            if (mpl.ratio != 1) {\n",
       "                fig.send_message(\"set_dpi_ratio\", {'dpi_ratio': mpl.ratio});\n",
       "            }\n",
       "            fig.send_message(\"refresh\", {});\n",
       "        }\n",
       "\n",
       "    this.imageObj.onload = function() {\n",
       "            if (fig.image_mode == 'full') {\n",
       "                // Full images could contain transparency (where diff images\n",
       "                // almost always do), so we need to clear the canvas so that\n",
       "                // there is no ghosting.\n",
       "                fig.context.clearRect(0, 0, fig.canvas.width, fig.canvas.height);\n",
       "            }\n",
       "            fig.context.drawImage(fig.imageObj, 0, 0);\n",
       "        };\n",
       "\n",
       "    this.imageObj.onunload = function() {\n",
       "        fig.ws.close();\n",
       "    }\n",
       "\n",
       "    this.ws.onmessage = this._make_on_message_function(this);\n",
       "\n",
       "    this.ondownload = ondownload;\n",
       "}\n",
       "\n",
       "mpl.figure.prototype._init_header = function() {\n",
       "    var titlebar = $(\n",
       "        '<div class=\"ui-dialog-titlebar ui-widget-header ui-corner-all ' +\n",
       "        'ui-helper-clearfix\"/>');\n",
       "    var titletext = $(\n",
       "        '<div class=\"ui-dialog-title\" style=\"width: 100%; ' +\n",
       "        'text-align: center; padding: 3px;\"/>');\n",
       "    titlebar.append(titletext)\n",
       "    this.root.append(titlebar);\n",
       "    this.header = titletext[0];\n",
       "}\n",
       "\n",
       "\n",
       "\n",
       "mpl.figure.prototype._canvas_extra_style = function(canvas_div) {\n",
       "\n",
       "}\n",
       "\n",
       "\n",
       "mpl.figure.prototype._root_extra_style = function(canvas_div) {\n",
       "\n",
       "}\n",
       "\n",
       "mpl.figure.prototype._init_canvas = function() {\n",
       "    var fig = this;\n",
       "\n",
       "    var canvas_div = $('<div/>');\n",
       "\n",
       "    canvas_div.attr('style', 'position: relative; clear: both; outline: 0');\n",
       "\n",
       "    function canvas_keyboard_event(event) {\n",
       "        return fig.key_event(event, event['data']);\n",
       "    }\n",
       "\n",
       "    canvas_div.keydown('key_press', canvas_keyboard_event);\n",
       "    canvas_div.keyup('key_release', canvas_keyboard_event);\n",
       "    this.canvas_div = canvas_div\n",
       "    this._canvas_extra_style(canvas_div)\n",
       "    this.root.append(canvas_div);\n",
       "\n",
       "    var canvas = $('<canvas/>');\n",
       "    canvas.addClass('mpl-canvas');\n",
       "    canvas.attr('style', \"left: 0; top: 0; z-index: 0; outline: 0\")\n",
       "\n",
       "    this.canvas = canvas[0];\n",
       "    this.context = canvas[0].getContext(\"2d\");\n",
       "\n",
       "    var backingStore = this.context.backingStorePixelRatio ||\n",
       "\tthis.context.webkitBackingStorePixelRatio ||\n",
       "\tthis.context.mozBackingStorePixelRatio ||\n",
       "\tthis.context.msBackingStorePixelRatio ||\n",
       "\tthis.context.oBackingStorePixelRatio ||\n",
       "\tthis.context.backingStorePixelRatio || 1;\n",
       "\n",
       "    mpl.ratio = (window.devicePixelRatio || 1) / backingStore;\n",
       "\n",
       "    var rubberband = $('<canvas/>');\n",
       "    rubberband.attr('style', \"position: absolute; left: 0; top: 0; z-index: 1;\")\n",
       "\n",
       "    var pass_mouse_events = true;\n",
       "\n",
       "    canvas_div.resizable({\n",
       "        start: function(event, ui) {\n",
       "            pass_mouse_events = false;\n",
       "        },\n",
       "        resize: function(event, ui) {\n",
       "            fig.request_resize(ui.size.width, ui.size.height);\n",
       "        },\n",
       "        stop: function(event, ui) {\n",
       "            pass_mouse_events = true;\n",
       "            fig.request_resize(ui.size.width, ui.size.height);\n",
       "        },\n",
       "    });\n",
       "\n",
       "    function mouse_event_fn(event) {\n",
       "        if (pass_mouse_events)\n",
       "            return fig.mouse_event(event, event['data']);\n",
       "    }\n",
       "\n",
       "    rubberband.mousedown('button_press', mouse_event_fn);\n",
       "    rubberband.mouseup('button_release', mouse_event_fn);\n",
       "    // Throttle sequential mouse events to 1 every 20ms.\n",
       "    rubberband.mousemove('motion_notify', mouse_event_fn);\n",
       "\n",
       "    rubberband.mouseenter('figure_enter', mouse_event_fn);\n",
       "    rubberband.mouseleave('figure_leave', mouse_event_fn);\n",
       "\n",
       "    canvas_div.on(\"wheel\", function (event) {\n",
       "        event = event.originalEvent;\n",
       "        event['data'] = 'scroll'\n",
       "        if (event.deltaY < 0) {\n",
       "            event.step = 1;\n",
       "        } else {\n",
       "            event.step = -1;\n",
       "        }\n",
       "        mouse_event_fn(event);\n",
       "    });\n",
       "\n",
       "    canvas_div.append(canvas);\n",
       "    canvas_div.append(rubberband);\n",
       "\n",
       "    this.rubberband = rubberband;\n",
       "    this.rubberband_canvas = rubberband[0];\n",
       "    this.rubberband_context = rubberband[0].getContext(\"2d\");\n",
       "    this.rubberband_context.strokeStyle = \"#000000\";\n",
       "\n",
       "    this._resize_canvas = function(width, height) {\n",
       "        // Keep the size of the canvas, canvas container, and rubber band\n",
       "        // canvas in synch.\n",
       "        canvas_div.css('width', width)\n",
       "        canvas_div.css('height', height)\n",
       "\n",
       "        canvas.attr('width', width * mpl.ratio);\n",
       "        canvas.attr('height', height * mpl.ratio);\n",
       "        canvas.attr('style', 'width: ' + width + 'px; height: ' + height + 'px;');\n",
       "\n",
       "        rubberband.attr('width', width);\n",
       "        rubberband.attr('height', height);\n",
       "    }\n",
       "\n",
       "    // Set the figure to an initial 600x600px, this will subsequently be updated\n",
       "    // upon first draw.\n",
       "    this._resize_canvas(600, 600);\n",
       "\n",
       "    // Disable right mouse context menu.\n",
       "    $(this.rubberband_canvas).bind(\"contextmenu\",function(e){\n",
       "        return false;\n",
       "    });\n",
       "\n",
       "    function set_focus () {\n",
       "        canvas.focus();\n",
       "        canvas_div.focus();\n",
       "    }\n",
       "\n",
       "    window.setTimeout(set_focus, 100);\n",
       "}\n",
       "\n",
       "mpl.figure.prototype._init_toolbar = function() {\n",
       "    var fig = this;\n",
       "\n",
       "    var nav_element = $('<div/>');\n",
       "    nav_element.attr('style', 'width: 100%');\n",
       "    this.root.append(nav_element);\n",
       "\n",
       "    // Define a callback function for later on.\n",
       "    function toolbar_event(event) {\n",
       "        return fig.toolbar_button_onclick(event['data']);\n",
       "    }\n",
       "    function toolbar_mouse_event(event) {\n",
       "        return fig.toolbar_button_onmouseover(event['data']);\n",
       "    }\n",
       "\n",
       "    for(var toolbar_ind in mpl.toolbar_items) {\n",
       "        var name = mpl.toolbar_items[toolbar_ind][0];\n",
       "        var tooltip = mpl.toolbar_items[toolbar_ind][1];\n",
       "        var image = mpl.toolbar_items[toolbar_ind][2];\n",
       "        var method_name = mpl.toolbar_items[toolbar_ind][3];\n",
       "\n",
       "        if (!name) {\n",
       "            // put a spacer in here.\n",
       "            continue;\n",
       "        }\n",
       "        var button = $('<button/>');\n",
       "        button.addClass('ui-button ui-widget ui-state-default ui-corner-all ' +\n",
       "                        'ui-button-icon-only');\n",
       "        button.attr('role', 'button');\n",
       "        button.attr('aria-disabled', 'false');\n",
       "        button.click(method_name, toolbar_event);\n",
       "        button.mouseover(tooltip, toolbar_mouse_event);\n",
       "\n",
       "        var icon_img = $('<span/>');\n",
       "        icon_img.addClass('ui-button-icon-primary ui-icon');\n",
       "        icon_img.addClass(image);\n",
       "        icon_img.addClass('ui-corner-all');\n",
       "\n",
       "        var tooltip_span = $('<span/>');\n",
       "        tooltip_span.addClass('ui-button-text');\n",
       "        tooltip_span.html(tooltip);\n",
       "\n",
       "        button.append(icon_img);\n",
       "        button.append(tooltip_span);\n",
       "\n",
       "        nav_element.append(button);\n",
       "    }\n",
       "\n",
       "    var fmt_picker_span = $('<span/>');\n",
       "\n",
       "    var fmt_picker = $('<select/>');\n",
       "    fmt_picker.addClass('mpl-toolbar-option ui-widget ui-widget-content');\n",
       "    fmt_picker_span.append(fmt_picker);\n",
       "    nav_element.append(fmt_picker_span);\n",
       "    this.format_dropdown = fmt_picker[0];\n",
       "\n",
       "    for (var ind in mpl.extensions) {\n",
       "        var fmt = mpl.extensions[ind];\n",
       "        var option = $(\n",
       "            '<option/>', {selected: fmt === mpl.default_extension}).html(fmt);\n",
       "        fmt_picker.append(option);\n",
       "    }\n",
       "\n",
       "    // Add hover states to the ui-buttons\n",
       "    $( \".ui-button\" ).hover(\n",
       "        function() { $(this).addClass(\"ui-state-hover\");},\n",
       "        function() { $(this).removeClass(\"ui-state-hover\");}\n",
       "    );\n",
       "\n",
       "    var status_bar = $('<span class=\"mpl-message\"/>');\n",
       "    nav_element.append(status_bar);\n",
       "    this.message = status_bar[0];\n",
       "}\n",
       "\n",
       "mpl.figure.prototype.request_resize = function(x_pixels, y_pixels) {\n",
       "    // Request matplotlib to resize the figure. Matplotlib will then trigger a resize in the client,\n",
       "    // which will in turn request a refresh of the image.\n",
       "    this.send_message('resize', {'width': x_pixels, 'height': y_pixels});\n",
       "}\n",
       "\n",
       "mpl.figure.prototype.send_message = function(type, properties) {\n",
       "    properties['type'] = type;\n",
       "    properties['figure_id'] = this.id;\n",
       "    this.ws.send(JSON.stringify(properties));\n",
       "}\n",
       "\n",
       "mpl.figure.prototype.send_draw_message = function() {\n",
       "    if (!this.waiting) {\n",
       "        this.waiting = true;\n",
       "        this.ws.send(JSON.stringify({type: \"draw\", figure_id: this.id}));\n",
       "    }\n",
       "}\n",
       "\n",
       "\n",
       "mpl.figure.prototype.handle_save = function(fig, msg) {\n",
       "    var format_dropdown = fig.format_dropdown;\n",
       "    var format = format_dropdown.options[format_dropdown.selectedIndex].value;\n",
       "    fig.ondownload(fig, format);\n",
       "}\n",
       "\n",
       "\n",
       "mpl.figure.prototype.handle_resize = function(fig, msg) {\n",
       "    var size = msg['size'];\n",
       "    if (size[0] != fig.canvas.width || size[1] != fig.canvas.height) {\n",
       "        fig._resize_canvas(size[0], size[1]);\n",
       "        fig.send_message(\"refresh\", {});\n",
       "    };\n",
       "}\n",
       "\n",
       "mpl.figure.prototype.handle_rubberband = function(fig, msg) {\n",
       "    var x0 = msg['x0'] / mpl.ratio;\n",
       "    var y0 = (fig.canvas.height - msg['y0']) / mpl.ratio;\n",
       "    var x1 = msg['x1'] / mpl.ratio;\n",
       "    var y1 = (fig.canvas.height - msg['y1']) / mpl.ratio;\n",
       "    x0 = Math.floor(x0) + 0.5;\n",
       "    y0 = Math.floor(y0) + 0.5;\n",
       "    x1 = Math.floor(x1) + 0.5;\n",
       "    y1 = Math.floor(y1) + 0.5;\n",
       "    var min_x = Math.min(x0, x1);\n",
       "    var min_y = Math.min(y0, y1);\n",
       "    var width = Math.abs(x1 - x0);\n",
       "    var height = Math.abs(y1 - y0);\n",
       "\n",
       "    fig.rubberband_context.clearRect(\n",
       "        0, 0, fig.canvas.width / mpl.ratio, fig.canvas.height / mpl.ratio);\n",
       "\n",
       "    fig.rubberband_context.strokeRect(min_x, min_y, width, height);\n",
       "}\n",
       "\n",
       "mpl.figure.prototype.handle_figure_label = function(fig, msg) {\n",
       "    // Updates the figure title.\n",
       "    fig.header.textContent = msg['label'];\n",
       "}\n",
       "\n",
       "mpl.figure.prototype.handle_cursor = function(fig, msg) {\n",
       "    var cursor = msg['cursor'];\n",
       "    switch(cursor)\n",
       "    {\n",
       "    case 0:\n",
       "        cursor = 'pointer';\n",
       "        break;\n",
       "    case 1:\n",
       "        cursor = 'default';\n",
       "        break;\n",
       "    case 2:\n",
       "        cursor = 'crosshair';\n",
       "        break;\n",
       "    case 3:\n",
       "        cursor = 'move';\n",
       "        break;\n",
       "    }\n",
       "    fig.rubberband_canvas.style.cursor = cursor;\n",
       "}\n",
       "\n",
       "mpl.figure.prototype.handle_message = function(fig, msg) {\n",
       "    fig.message.textContent = msg['message'];\n",
       "}\n",
       "\n",
       "mpl.figure.prototype.handle_draw = function(fig, msg) {\n",
       "    // Request the server to send over a new figure.\n",
       "    fig.send_draw_message();\n",
       "}\n",
       "\n",
       "mpl.figure.prototype.handle_image_mode = function(fig, msg) {\n",
       "    fig.image_mode = msg['mode'];\n",
       "}\n",
       "\n",
       "mpl.figure.prototype.updated_canvas_event = function() {\n",
       "    // Called whenever the canvas gets updated.\n",
       "    this.send_message(\"ack\", {});\n",
       "}\n",
       "\n",
       "// A function to construct a web socket function for onmessage handling.\n",
       "// Called in the figure constructor.\n",
       "mpl.figure.prototype._make_on_message_function = function(fig) {\n",
       "    return function socket_on_message(evt) {\n",
       "        if (evt.data instanceof Blob) {\n",
       "            /* FIXME: We get \"Resource interpreted as Image but\n",
       "             * transferred with MIME type text/plain:\" errors on\n",
       "             * Chrome.  But how to set the MIME type?  It doesn't seem\n",
       "             * to be part of the websocket stream */\n",
       "            evt.data.type = \"image/png\";\n",
       "\n",
       "            /* Free the memory for the previous frames */\n",
       "            if (fig.imageObj.src) {\n",
       "                (window.URL || window.webkitURL).revokeObjectURL(\n",
       "                    fig.imageObj.src);\n",
       "            }\n",
       "\n",
       "            fig.imageObj.src = (window.URL || window.webkitURL).createObjectURL(\n",
       "                evt.data);\n",
       "            fig.updated_canvas_event();\n",
       "            fig.waiting = false;\n",
       "            return;\n",
       "        }\n",
       "        else if (typeof evt.data === 'string' && evt.data.slice(0, 21) == \"data:image/png;base64\") {\n",
       "            fig.imageObj.src = evt.data;\n",
       "            fig.updated_canvas_event();\n",
       "            fig.waiting = false;\n",
       "            return;\n",
       "        }\n",
       "\n",
       "        var msg = JSON.parse(evt.data);\n",
       "        var msg_type = msg['type'];\n",
       "\n",
       "        // Call the  \"handle_{type}\" callback, which takes\n",
       "        // the figure and JSON message as its only arguments.\n",
       "        try {\n",
       "            var callback = fig[\"handle_\" + msg_type];\n",
       "        } catch (e) {\n",
       "            console.log(\"No handler for the '\" + msg_type + \"' message type: \", msg);\n",
       "            return;\n",
       "        }\n",
       "\n",
       "        if (callback) {\n",
       "            try {\n",
       "                // console.log(\"Handling '\" + msg_type + \"' message: \", msg);\n",
       "                callback(fig, msg);\n",
       "            } catch (e) {\n",
       "                console.log(\"Exception inside the 'handler_\" + msg_type + \"' callback:\", e, e.stack, msg);\n",
       "            }\n",
       "        }\n",
       "    };\n",
       "}\n",
       "\n",
       "// from http://stackoverflow.com/questions/1114465/getting-mouse-location-in-canvas\n",
       "mpl.findpos = function(e) {\n",
       "    //this section is from http://www.quirksmode.org/js/events_properties.html\n",
       "    var targ;\n",
       "    if (!e)\n",
       "        e = window.event;\n",
       "    if (e.target)\n",
       "        targ = e.target;\n",
       "    else if (e.srcElement)\n",
       "        targ = e.srcElement;\n",
       "    if (targ.nodeType == 3) // defeat Safari bug\n",
       "        targ = targ.parentNode;\n",
       "\n",
       "    // jQuery normalizes the pageX and pageY\n",
       "    // pageX,Y are the mouse positions relative to the document\n",
       "    // offset() returns the position of the element relative to the document\n",
       "    var x = e.pageX - $(targ).offset().left;\n",
       "    var y = e.pageY - $(targ).offset().top;\n",
       "\n",
       "    return {\"x\": x, \"y\": y};\n",
       "};\n",
       "\n",
       "/*\n",
       " * return a copy of an object with only non-object keys\n",
       " * we need this to avoid circular references\n",
       " * http://stackoverflow.com/a/24161582/3208463\n",
       " */\n",
       "function simpleKeys (original) {\n",
       "  return Object.keys(original).reduce(function (obj, key) {\n",
       "    if (typeof original[key] !== 'object')\n",
       "        obj[key] = original[key]\n",
       "    return obj;\n",
       "  }, {});\n",
       "}\n",
       "\n",
       "mpl.figure.prototype.mouse_event = function(event, name) {\n",
       "    var canvas_pos = mpl.findpos(event)\n",
       "\n",
       "    if (name === 'button_press')\n",
       "    {\n",
       "        this.canvas.focus();\n",
       "        this.canvas_div.focus();\n",
       "    }\n",
       "\n",
       "    var x = canvas_pos.x * mpl.ratio;\n",
       "    var y = canvas_pos.y * mpl.ratio;\n",
       "\n",
       "    this.send_message(name, {x: x, y: y, button: event.button,\n",
       "                             step: event.step,\n",
       "                             guiEvent: simpleKeys(event)});\n",
       "\n",
       "    /* This prevents the web browser from automatically changing to\n",
       "     * the text insertion cursor when the button is pressed.  We want\n",
       "     * to control all of the cursor setting manually through the\n",
       "     * 'cursor' event from matplotlib */\n",
       "    event.preventDefault();\n",
       "    return false;\n",
       "}\n",
       "\n",
       "mpl.figure.prototype._key_event_extra = function(event, name) {\n",
       "    // Handle any extra behaviour associated with a key event\n",
       "}\n",
       "\n",
       "mpl.figure.prototype.key_event = function(event, name) {\n",
       "\n",
       "    // Prevent repeat events\n",
       "    if (name == 'key_press')\n",
       "    {\n",
       "        if (event.which === this._key)\n",
       "            return;\n",
       "        else\n",
       "            this._key = event.which;\n",
       "    }\n",
       "    if (name == 'key_release')\n",
       "        this._key = null;\n",
       "\n",
       "    var value = '';\n",
       "    if (event.ctrlKey && event.which != 17)\n",
       "        value += \"ctrl+\";\n",
       "    if (event.altKey && event.which != 18)\n",
       "        value += \"alt+\";\n",
       "    if (event.shiftKey && event.which != 16)\n",
       "        value += \"shift+\";\n",
       "\n",
       "    value += 'k';\n",
       "    value += event.which.toString();\n",
       "\n",
       "    this._key_event_extra(event, name);\n",
       "\n",
       "    this.send_message(name, {key: value,\n",
       "                             guiEvent: simpleKeys(event)});\n",
       "    return false;\n",
       "}\n",
       "\n",
       "mpl.figure.prototype.toolbar_button_onclick = function(name) {\n",
       "    if (name == 'download') {\n",
       "        this.handle_save(this, null);\n",
       "    } else {\n",
       "        this.send_message(\"toolbar_button\", {name: name});\n",
       "    }\n",
       "};\n",
       "\n",
       "mpl.figure.prototype.toolbar_button_onmouseover = function(tooltip) {\n",
       "    this.message.textContent = tooltip;\n",
       "};\n",
       "mpl.toolbar_items = [[\"Home\", \"Reset original view\", \"fa fa-home icon-home\", \"home\"], [\"Back\", \"Back to previous view\", \"fa fa-arrow-left icon-arrow-left\", \"back\"], [\"Forward\", \"Forward to next view\", \"fa fa-arrow-right icon-arrow-right\", \"forward\"], [\"\", \"\", \"\", \"\"], [\"Pan\", \"Pan axes with left mouse, zoom with right\", \"fa fa-arrows icon-move\", \"pan\"], [\"Zoom\", \"Zoom to rectangle\", \"fa fa-square-o icon-check-empty\", \"zoom\"], [\"\", \"\", \"\", \"\"], [\"Download\", \"Download plot\", \"fa fa-floppy-o icon-save\", \"download\"]];\n",
       "\n",
       "mpl.extensions = [\"eps\", \"pdf\", \"png\", \"ps\", \"raw\", \"svg\"];\n",
       "\n",
       "mpl.default_extension = \"png\";var comm_websocket_adapter = function(comm) {\n",
       "    // Create a \"websocket\"-like object which calls the given IPython comm\n",
       "    // object with the appropriate methods. Currently this is a non binary\n",
       "    // socket, so there is still some room for performance tuning.\n",
       "    var ws = {};\n",
       "\n",
       "    ws.close = function() {\n",
       "        comm.close()\n",
       "    };\n",
       "    ws.send = function(m) {\n",
       "        //console.log('sending', m);\n",
       "        comm.send(m);\n",
       "    };\n",
       "    // Register the callback with on_msg.\n",
       "    comm.on_msg(function(msg) {\n",
       "        //console.log('receiving', msg['content']['data'], msg);\n",
       "        // Pass the mpl event to the overridden (by mpl) onmessage function.\n",
       "        ws.onmessage(msg['content']['data'])\n",
       "    });\n",
       "    return ws;\n",
       "}\n",
       "\n",
       "mpl.mpl_figure_comm = function(comm, msg) {\n",
       "    // This is the function which gets called when the mpl process\n",
       "    // starts-up an IPython Comm through the \"matplotlib\" channel.\n",
       "\n",
       "    var id = msg.content.data.id;\n",
       "    // Get hold of the div created by the display call when the Comm\n",
       "    // socket was opened in Python.\n",
       "    var element = $(\"#\" + id);\n",
       "    var ws_proxy = comm_websocket_adapter(comm)\n",
       "\n",
       "    function ondownload(figure, format) {\n",
       "        window.open(figure.imageObj.src);\n",
       "    }\n",
       "\n",
       "    var fig = new mpl.figure(id, ws_proxy,\n",
       "                           ondownload,\n",
       "                           element.get(0));\n",
       "\n",
       "    // Call onopen now - mpl needs it, as it is assuming we've passed it a real\n",
       "    // web socket which is closed, not our websocket->open comm proxy.\n",
       "    ws_proxy.onopen();\n",
       "\n",
       "    fig.parent_element = element.get(0);\n",
       "    fig.cell_info = mpl.find_output_cell(\"<div id='\" + id + \"'></div>\");\n",
       "    if (!fig.cell_info) {\n",
       "        console.error(\"Failed to find cell for figure\", id, fig);\n",
       "        return;\n",
       "    }\n",
       "\n",
       "    var output_index = fig.cell_info[2]\n",
       "    var cell = fig.cell_info[0];\n",
       "\n",
       "};\n",
       "\n",
       "mpl.figure.prototype.handle_close = function(fig, msg) {\n",
       "    var width = fig.canvas.width/mpl.ratio\n",
       "    fig.root.unbind('remove')\n",
       "\n",
       "    // Update the output cell to use the data from the current canvas.\n",
       "    fig.push_to_output();\n",
       "    var dataURL = fig.canvas.toDataURL();\n",
       "    // Re-enable the keyboard manager in IPython - without this line, in FF,\n",
       "    // the notebook keyboard shortcuts fail.\n",
       "    IPython.keyboard_manager.enable()\n",
       "    $(fig.parent_element).html('<img src=\"' + dataURL + '\" width=\"' + width + '\">');\n",
       "    fig.close_ws(fig, msg);\n",
       "}\n",
       "\n",
       "mpl.figure.prototype.close_ws = function(fig, msg){\n",
       "    fig.send_message('closing', msg);\n",
       "    // fig.ws.close()\n",
       "}\n",
       "\n",
       "mpl.figure.prototype.push_to_output = function(remove_interactive) {\n",
       "    // Turn the data on the canvas into data in the output cell.\n",
       "    var width = this.canvas.width/mpl.ratio\n",
       "    var dataURL = this.canvas.toDataURL();\n",
       "    this.cell_info[1]['text/html'] = '<img src=\"' + dataURL + '\" width=\"' + width + '\">';\n",
       "}\n",
       "\n",
       "mpl.figure.prototype.updated_canvas_event = function() {\n",
       "    // Tell IPython that the notebook contents must change.\n",
       "    IPython.notebook.set_dirty(true);\n",
       "    this.send_message(\"ack\", {});\n",
       "    var fig = this;\n",
       "    // Wait a second, then push the new image to the DOM so\n",
       "    // that it is saved nicely (might be nice to debounce this).\n",
       "    setTimeout(function () { fig.push_to_output() }, 1000);\n",
       "}\n",
       "\n",
       "mpl.figure.prototype._init_toolbar = function() {\n",
       "    var fig = this;\n",
       "\n",
       "    var nav_element = $('<div/>');\n",
       "    nav_element.attr('style', 'width: 100%');\n",
       "    this.root.append(nav_element);\n",
       "\n",
       "    // Define a callback function for later on.\n",
       "    function toolbar_event(event) {\n",
       "        return fig.toolbar_button_onclick(event['data']);\n",
       "    }\n",
       "    function toolbar_mouse_event(event) {\n",
       "        return fig.toolbar_button_onmouseover(event['data']);\n",
       "    }\n",
       "\n",
       "    for(var toolbar_ind in mpl.toolbar_items){\n",
       "        var name = mpl.toolbar_items[toolbar_ind][0];\n",
       "        var tooltip = mpl.toolbar_items[toolbar_ind][1];\n",
       "        var image = mpl.toolbar_items[toolbar_ind][2];\n",
       "        var method_name = mpl.toolbar_items[toolbar_ind][3];\n",
       "\n",
       "        if (!name) { continue; };\n",
       "\n",
       "        var button = $('<button class=\"btn btn-default\" href=\"#\" title=\"' + name + '\"><i class=\"fa ' + image + ' fa-lg\"></i></button>');\n",
       "        button.click(method_name, toolbar_event);\n",
       "        button.mouseover(tooltip, toolbar_mouse_event);\n",
       "        nav_element.append(button);\n",
       "    }\n",
       "\n",
       "    // Add the status bar.\n",
       "    var status_bar = $('<span class=\"mpl-message\" style=\"text-align:right; float: right;\"/>');\n",
       "    nav_element.append(status_bar);\n",
       "    this.message = status_bar[0];\n",
       "\n",
       "    // Add the close button to the window.\n",
       "    var buttongrp = $('<div class=\"btn-group inline pull-right\"></div>');\n",
       "    var button = $('<button class=\"btn btn-mini btn-primary\" href=\"#\" title=\"Stop Interaction\"><i class=\"fa fa-power-off icon-remove icon-large\"></i></button>');\n",
       "    button.click(function (evt) { fig.handle_close(fig, {}); } );\n",
       "    button.mouseover('Stop Interaction', toolbar_mouse_event);\n",
       "    buttongrp.append(button);\n",
       "    var titlebar = this.root.find($('.ui-dialog-titlebar'));\n",
       "    titlebar.prepend(buttongrp);\n",
       "}\n",
       "\n",
       "mpl.figure.prototype._root_extra_style = function(el){\n",
       "    var fig = this\n",
       "    el.on(\"remove\", function(){\n",
       "\tfig.close_ws(fig, {});\n",
       "    });\n",
       "}\n",
       "\n",
       "mpl.figure.prototype._canvas_extra_style = function(el){\n",
       "    // this is important to make the div 'focusable\n",
       "    el.attr('tabindex', 0)\n",
       "    // reach out to IPython and tell the keyboard manager to turn it's self\n",
       "    // off when our div gets focus\n",
       "\n",
       "    // location in version 3\n",
       "    if (IPython.notebook.keyboard_manager) {\n",
       "        IPython.notebook.keyboard_manager.register_events(el);\n",
       "    }\n",
       "    else {\n",
       "        // location in version 2\n",
       "        IPython.keyboard_manager.register_events(el);\n",
       "    }\n",
       "\n",
       "}\n",
       "\n",
       "mpl.figure.prototype._key_event_extra = function(event, name) {\n",
       "    var manager = IPython.notebook.keyboard_manager;\n",
       "    if (!manager)\n",
       "        manager = IPython.keyboard_manager;\n",
       "\n",
       "    // Check for shift+enter\n",
       "    if (event.shiftKey && event.which == 13) {\n",
       "        this.canvas_div.blur();\n",
       "        // select the cell after this one\n",
       "        var index = IPython.notebook.find_cell_index(this.cell_info[0]);\n",
       "        IPython.notebook.select(index + 1);\n",
       "    }\n",
       "}\n",
       "\n",
       "mpl.figure.prototype.handle_save = function(fig, msg) {\n",
       "    fig.ondownload(fig, null);\n",
       "}\n",
       "\n",
       "\n",
       "mpl.find_output_cell = function(html_output) {\n",
       "    // Return the cell and output element which can be found *uniquely* in the notebook.\n",
       "    // Note - this is a bit hacky, but it is done because the \"notebook_saving.Notebook\"\n",
       "    // IPython event is triggered only after the cells have been serialised, which for\n",
       "    // our purposes (turning an active figure into a static one), is too late.\n",
       "    var cells = IPython.notebook.get_cells();\n",
       "    var ncells = cells.length;\n",
       "    for (var i=0; i<ncells; i++) {\n",
       "        var cell = cells[i];\n",
       "        if (cell.cell_type === 'code'){\n",
       "            for (var j=0; j<cell.output_area.outputs.length; j++) {\n",
       "                var data = cell.output_area.outputs[j];\n",
       "                if (data.data) {\n",
       "                    // IPython >= 3 moved mimebundle to data attribute of output\n",
       "                    data = data.data;\n",
       "                }\n",
       "                if (data['text/html'] == html_output) {\n",
       "                    return [cell, data, j];\n",
       "                }\n",
       "            }\n",
       "        }\n",
       "    }\n",
       "}\n",
       "\n",
       "// Register the function which deals with the matplotlib target/channel.\n",
       "// The kernel may be null if the page has been refreshed.\n",
       "if (IPython.notebook.kernel != null) {\n",
       "    IPython.notebook.kernel.comm_manager.register_target('matplotlib', mpl.mpl_figure_comm);\n",
       "}\n"
      ],
      "text/plain": [
       "<IPython.core.display.Javascript object>"
      ]
     },
     "metadata": {},
     "output_type": "display_data"
    },
    {
     "data": {
      "text/html": [
       "<img src=\"data:image/png;base64,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\" width=\"639.9999861283738\">"
      ],
      "text/plain": [
       "<IPython.core.display.HTML object>"
      ]
     },
     "metadata": {},
     "output_type": "display_data"
    },
    {
     "data": {
      "text/plain": [
       "Text(0, 0.5, 'Mean absolute error')"
      ]
     },
     "execution_count": 29,
     "metadata": {},
     "output_type": "execute_result"
    }
   ],
   "source": [
    "fig, ax = plt.subplots()\n",
    "ax.errorbar(list_p, errors, yerr=std, capsize=5)\n",
    "ax.set_xscale('log')\n",
    "ax.set_xlabel(r'$p$')\n",
    "ax.set_ylabel('Mean absolute error')"
   ]
  }
 ],
 "metadata": {
  "kernelspec": {
   "display_name": "Python 3",
   "language": "python",
   "name": "python3"
  },
  "language_info": {
   "codemirror_mode": {
    "name": "ipython",
    "version": 3
   },
   "file_extension": ".py",
   "mimetype": "text/x-python",
   "name": "python",
   "nbconvert_exporter": "python",
   "pygments_lexer": "ipython3",
   "version": "3.7.6"
  }
 },
 "nbformat": 4,
 "nbformat_minor": 2
}
